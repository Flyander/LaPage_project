{
 "cells": [
  {
   "cell_type": "markdown",
   "metadata": {},
   "source": [
    "# Scénario\n",
    "\n",
    "Vous êtes consultant chez LaPage, une grande librairie généraliste en ligne très réputée. Vous êtes directement rattaché au service Marketing. Lapage était originellement une librairie physique avec points de vente. Mais devant le succès de certains de ses produits et l'engouement de ses clients, elle a décidé depuis 2 ans d'ouvrir un site de vente en ligne. Vous intervenez car l'entreprise souhaite faire le point après deux ans d'exercice, et pouvoir analyser ses points forts, ses points faibles, les comportements cients et etc. Nous aimerions faire le point à présent. Cela nous permettra de décider de la marche à suivre, par exemple décider si nous devons créer certaines offres, adapter certains prix, etc.\n",
    "\n",
    "Cette analyse va être découpée en deux parties :\n",
    "<ol>\n",
    "    <li>Une analyse des différents indicateurs de vente, qui a été demandée directement.</li>\n",
    "    <ol>\n",
    "        <li>Dans un premier temps, on va avoir besoin de différents indicateurs et graphiques autour du chiffre d'affaires. Peux-tu également regarder l'évolution dans le temps et mettre en place une décomposition en moyenne mobile pour évaluer la tendance globale ? Il serait également intéressant de faire un zoom sur les références, pour voir un peu les tops et les flops, la répartition par catégorie, etc.</li>\n",
    "        <li>Enfin, on aimerait avoir quelques informations sur les profils de nos clients, et également la répartition du chiffre d'affaires entre eux, via par exemple une courbe de Lorenz.</li>\n",
    "    </ol>\n",
    "    <li>Une analyse plus ciblée sur les clients : l'objectif serait cette fois-ci de comprendre le comportement de nos clients en ligne, pour pouvoir ensuite comparer avec la connaissance acquise via nos librairies physiques. On aimera que tu regardes en particulier :</li>\n",
    "    <ol>\n",
    "        <li>le lien entre le genre d'un client et les catégories des livres achetés;</li>\n",
    "        <li>et ensuite le lient entre l'âge des clients et le montant total des achats, la fréquance d'achat, la taille du panier moyen et les catégories des livres achetés</li>\n",
    "    </ol>\n",
    "</ol>"
   ]
  },
  {
   "cell_type": "markdown",
   "metadata": {},
   "source": [
    "# Remarques\n",
    "\n",
    "<ol>\n",
    "    <li>Détail du nettoyage des données : vous présenterez l'ensemble de données exploitable.</li>\n",
    "    <li>Restitution de l'analyse : les chiffres clés, KPI, graphiques générés corrélation calculées, etc. (le calcul de l'indicateur de corrélation (R²; eta², Chi²) et la mise en place d'un test statistique est nécessaire)"
   ]
  },
  {
   "cell_type": "markdown",
   "metadata": {},
   "source": [
    "# Ressources\n",
    "\n",
    "<ol>\n",
    "    <li>Réalisez des graphiques compréhensibles <font color = aqua>https://openclassrooms.com/fr/courses/4525336-realisez-des-rapports-statistiques-clairs-et-impactants/5193755-choisissez-des-graphiques-adaptes-a-votre-message</font></li>\n",
    "    <li>Maitrisez les bases des probabilites <font color = cyan>https://openclassrooms.com/fr/courses/4525296-maitrisez-les-bases-des-probabilites</font></li>\n",
    "    <li>Realisez des rapports statistiques clairs et impactants <font color = cyan>https://openclassrooms.com/fr/courses/4525336-realisez-des-rapports-statistiques-clairs-et-impactants</font></li>\n",
    "    <li>Initiez vous a la statistique inferentielle <font color = cyan>https://openclassrooms.com/fr/courses/4525306-initiez-vous-a-la-statistique-inferentielle</font></li>"
   ]
  },
  {
   "cell_type": "code",
   "execution_count": 16,
   "metadata": {},
   "outputs": [],
   "source": [
    "import pandas as pd\n",
    "import numpy as np\n",
    "import matplotlib.pyplot as plt\n",
    "import seaborn as sns"
   ]
  },
  {
   "cell_type": "code",
   "execution_count": 17,
   "metadata": {},
   "outputs": [],
   "source": [
    "df_customers = pd.read_csv('data/customers.csv')\n",
    "df_products = pd.read_csv('data/products.csv')\n",
    "df_transactions = pd.read_csv('data/transactions.csv')"
   ]
  },
  {
   "cell_type": "code",
   "execution_count": 24,
   "metadata": {},
   "outputs": [
    {
     "data": {
      "text/plain": [
       "(679553, 8)"
      ]
     },
     "execution_count": 24,
     "metadata": {},
     "output_type": "execute_result"
    }
   ],
   "source": [
    "df = pd.merge(df_customers, df_transactions, how='left', on='client_id')\n",
    "df = pd.merge(df, df_products, how='left', on='id_prod')\n",
    "df.shape"
   ]
  },
  {
   "cell_type": "code",
   "execution_count": 28,
   "metadata": {},
   "outputs": [
    {
     "data": {
      "text/plain": [
       "Index(['client_id', 'sex', 'birth', 'id_prod', 'date', 'session_id', 'price',\n",
       "       'categ'],\n",
       "      dtype='object')"
      ]
     },
     "execution_count": 28,
     "metadata": {},
     "output_type": "execute_result"
    }
   ],
   "source": [
    "df.columns"
   ]
  },
  {
   "cell_type": "code",
   "execution_count": 29,
   "metadata": {},
   "outputs": [
    {
     "name": "stdout",
     "output_type": "stream",
     "text": [
      "Le chiffre d'affaire est de 11853528.68 €\n"
     ]
    }
   ],
   "source": [
    "chiffre_affaire = df['price'].sum() \n",
    "\n",
    "print(f\"Le chiffre d'affaire est de {chiffre_affaire} €\")"
   ]
  },
  {
   "cell_type": "code",
   "execution_count": null,
   "metadata": {},
   "outputs": [],
   "source": []
  }
 ],
 "metadata": {
  "interpreter": {
   "hash": "b57b0ba709768a7bbbc5b5f9f052a7cbe42e1ac711dd327dca942e98c95c92b1"
  },
  "kernelspec": {
   "display_name": "Python 3.8.8 64-bit ('base': conda)",
   "language": "python",
   "name": "python3"
  },
  "language_info": {
   "codemirror_mode": {
    "name": "ipython",
    "version": 3
   },
   "file_extension": ".py",
   "mimetype": "text/x-python",
   "name": "python",
   "nbconvert_exporter": "python",
   "pygments_lexer": "ipython3",
   "version": "3.8.8"
  },
  "orig_nbformat": 4
 },
 "nbformat": 4,
 "nbformat_minor": 2
}
